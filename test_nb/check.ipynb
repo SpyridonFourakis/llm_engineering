{
 "cells": [
  {
   "cell_type": "markdown",
   "id": "26fbde73",
   "metadata": {},
   "source": [
    "**Import Lib**"
   ]
  },
  {
   "cell_type": "code",
   "execution_count": 5,
   "id": "a66c6fd3",
   "metadata": {},
   "outputs": [],
   "source": [
    "import platform\n",
    "import os\n",
    "from IPython.display import Markdown, display\n"
   ]
  },
  {
   "cell_type": "code",
   "execution_count": 6,
   "id": "b044201d",
   "metadata": {},
   "outputs": [
    {
     "name": "stdout",
     "output_type": "stream",
     "text": [
      "Architecture: arm64\n",
      "Processor: arm\n",
      "System: Darwin\n",
      "Full uname: posix.uname_result(sysname='Darwin', nodename='MacBook-Pro.local', release='24.5.0', version='Darwin Kernel Version 24.5.0: Tue Apr 22 19:53:27 PDT 2025; root:xnu-11417.121.6~2/RELEASE_ARM64_T6041', machine='arm64')\n"
     ]
    }
   ],
   "source": [
    "# CPU architecture (e.g., arm64 or x86_64)\n",
    "print(\"Architecture:\", platform.machine())\n",
    "\n",
    "# Optional: more details\n",
    "print(\"Processor:\", platform.processor())\n",
    "print(\"System:\", platform.system())\n",
    "print(\"Full uname:\", os.uname())"
   ]
  },
  {
   "cell_type": "code",
   "execution_count": 7,
   "id": "a7fd174e",
   "metadata": {},
   "outputs": [],
   "source": [
    "# A function to display this nicely in the Jupyter output, using markdown\n",
    "\n",
    "def display_summary(url):\n",
    "    display(Markdown(url))"
   ]
  },
  {
   "cell_type": "code",
   "execution_count": 10,
   "id": "f5f65947",
   "metadata": {},
   "outputs": [
    {
     "data": {
      "text/markdown": [
       "## CPU Architecture: arm64"
      ],
      "text/plain": [
       "<IPython.core.display.Markdown object>"
      ]
     },
     "metadata": {},
     "output_type": "display_data"
    },
    {
     "data": {
      "text/markdown": [
       "## Processor: arm"
      ],
      "text/plain": [
       "<IPython.core.display.Markdown object>"
      ]
     },
     "metadata": {},
     "output_type": "display_data"
    },
    {
     "data": {
      "text/markdown": [
       "## System: Darwin"
      ],
      "text/plain": [
       "<IPython.core.display.Markdown object>"
      ]
     },
     "metadata": {},
     "output_type": "display_data"
    }
   ],
   "source": [
    "display_summary(\"## CPU Architecture: \" + platform.machine())\n",
    "display_summary(\"## Processor: \" + platform.processor())\n",
    "display_summary(\"## System: \" + platform.system())\n"
   ]
  },
  {
   "cell_type": "code",
   "execution_count": null,
   "id": "84992baf",
   "metadata": {},
   "outputs": [],
   "source": []
  }
 ],
 "metadata": {
  "kernelspec": {
   "display_name": "numpy_3_11",
   "language": "python",
   "name": "python3"
  },
  "language_info": {
   "codemirror_mode": {
    "name": "ipython",
    "version": 3
   },
   "file_extension": ".py",
   "mimetype": "text/x-python",
   "name": "python",
   "nbconvert_exporter": "python",
   "pygments_lexer": "ipython3",
   "version": "3.11.11"
  }
 },
 "nbformat": 4,
 "nbformat_minor": 5
}
